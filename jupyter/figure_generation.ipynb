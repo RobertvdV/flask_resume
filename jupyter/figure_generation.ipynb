{
 "cells": [
  {
   "cell_type": "code",
   "execution_count": 1,
   "id": "5f7240a9-1981-4e37-88d6-b0183a40f9f3",
   "metadata": {},
   "outputs": [],
   "source": [
    "from plotly.subplots import make_subplots\n",
    "import plotly.graph_objects as go\n",
    "import plotly.express as px\n",
    "import plotly.figure_factory as ff\n",
    "import pandas as pd\n",
    "import numpy as np\n",
    "from scipy.stats import gaussian_kde\n",
    "from statistics import NormalDist\n",
    "import pickle\n",
    "import networkx as nx"
   ]
  },
  {
   "cell_type": "markdown",
   "id": "7b501bb3-f636-4dfe-9c8b-777d08090f97",
   "metadata": {},
   "source": [
    "### Thesis Plots"
   ]
  },
  {
   "cell_type": "markdown",
   "id": "c23f5c51-9549-47f9-bbde-4691fd250682",
   "metadata": {},
   "source": [
    "#### Website count"
   ]
  },
  {
   "cell_type": "code",
   "execution_count": null,
   "id": "73effc26-526d-4504-a0aa-28b07a0a06ee",
   "metadata": {},
   "outputs": [],
   "source": [
    "df = pd.read_csv('input/thesis_WebsitesInfo.csv')"
   ]
  },
  {
   "cell_type": "code",
   "execution_count": null,
   "id": "752326cb-ecfe-418f-baf5-72812ad088ad",
   "metadata": {},
   "outputs": [],
   "source": [
    "fig = px.bar(data_frame=df, x='URL', y='Count', \n",
    "             text_auto='.2s', text='Percentage')\n",
    "\n",
    "texts = [f'{round(value, 2)}%' for value in df['Percentage'].values]\n",
    "\n",
    "#fig.update_traces(textfont_size=12, textangle=0, textposition=\"outside\", cliponaxis=False)\n",
    "fig.update_traces(texttemplate = texts, textposition = 'outside')\n",
    "fig.update_layout(yaxis_range=[0, 60000])\n",
    "fig.show()"
   ]
  },
  {
   "cell_type": "code",
   "execution_count": null,
   "id": "a2f7a037-a66e-4ed7-83c1-fdeaaef1eaab",
   "metadata": {},
   "outputs": [],
   "source": [
    "fig.write_html('output/WebsitesAnalysis.html',\n",
    "                full_html=False,\n",
    "                include_plotlyjs='cdn')"
   ]
  },
  {
   "cell_type": "markdown",
   "id": "ce2492a6-02b7-4aa9-a545-788e7d1bf1aa",
   "metadata": {},
   "source": [
    "#### Description Test Results"
   ]
  },
  {
   "cell_type": "code",
   "execution_count": null,
   "id": "a0194142-6c95-4010-b99c-0e70d77b0fab",
   "metadata": {},
   "outputs": [],
   "source": [
    "df = pd.read_csv('input/thesis_TestPrediction.csv')\n",
    "df['bin'] = df.index.values / df.index.values[-1]"
   ]
  },
  {
   "cell_type": "code",
   "execution_count": null,
   "id": "12e09fdf-03e3-46dd-8117-07791c9cb17a",
   "metadata": {},
   "outputs": [],
   "source": [
    "def create_KDE(df, column, bw=None, num=501):\n",
    "    x = np.linspace(0, 1, num=num)\n",
    "    kernel = gaussian_kde(df[column], bw_method=bw) \n",
    "    y = kernel.pdf(x)\n",
    "    \n",
    "    return x, y"
   ]
  },
  {
   "cell_type": "code",
   "execution_count": null,
   "id": "a41ec8ac-a827-477c-9ce4-f95c43776589",
   "metadata": {},
   "outputs": [],
   "source": [
    "x, y = create_KDE(df, 'Probability_1', num=101)"
   ]
  },
  {
   "cell_type": "code",
   "execution_count": null,
   "id": "8796f930-1256-4833-8b1b-1c781dbea553",
   "metadata": {},
   "outputs": [],
   "source": [
    "correct_all = []\n",
    "incorrect_all = []\n",
    "for x1, x2 in zip(x, x[1:]):\n",
    "    df_subset = df[(df['bin'].between(x1, x2))].groupby('Correct').count()\n",
    "    try:\n",
    "        total = df_subset.iloc[1, 0] + df_subset.iloc[0, 0]\n",
    "        correct = df_subset.iloc[0, 0] / total\n",
    "    except:\n",
    "        correct = correct_all[-1]\n",
    "    incorrect = 1 - correct\n",
    "    \n",
    "    correct_all.append(correct)\n",
    "    incorrect_all.append(incorrect)"
   ]
  },
  {
   "cell_type": "code",
   "execution_count": null,
   "id": "691ffe83-f156-4850-b5f2-c3d9aef21801",
   "metadata": {},
   "outputs": [],
   "source": [
    "correct_all.append(correct_all[-1])\n",
    "incorrect_all.append(incorrect_all[-1])"
   ]
  },
  {
   "cell_type": "code",
   "execution_count": null,
   "id": "3dcd1258-74a9-4bba-8f47-7ce7c6dc0386",
   "metadata": {},
   "outputs": [],
   "source": [
    "fig = make_subplots(specs=[[{\"secondary_y\": True}]])\n",
    "\n",
    "x, y = create_KDE(df[df['Correct'] == 'Correct'], 'Probability_1', num=101)\n",
    "\n",
    "fig.add_trace(go.Scatter(\n",
    "    x=x, y=correct_all,\n",
    "    hoverinfo='x+y',\n",
    "    mode='lines',\n",
    "    line=dict(width=0.5, color='green'),\n",
    "    stackgroup='one',\n",
    "    groupnorm='percent'\n",
    "))\n",
    "\n",
    "x, y = create_KDE(df[df['Correct'] == 'Incorrect'], 'Probability_1', num=101)\n",
    "\n",
    "fig.add_trace(go.Scatter(\n",
    "    x=x, y=incorrect_all,\n",
    "    hoverinfo='x+y',\n",
    "    mode='lines',\n",
    "    line=dict(width=0.5, color='red'),\n",
    "    stackgroup='one',\n",
    "    showlegend=True,\n",
    "))\n",
    "\n",
    "fig.update_layout(\n",
    "    showlegend=False,\n",
    "    #xaxis_type='category',\n",
    "    yaxis=dict(\n",
    "        type='linear',\n",
    "        range=[1, 100],\n",
    "        ticksuffix='%'))\n",
    "\n",
    "x, y = create_KDE(df, 'Probability_1')\n",
    "\n",
    "fig.add_trace(\n",
    "    go.Scatter(x=x, y=y, name=\"Description Density\",\n",
    "              line=dict(width=1.5, color='rgb(131, 90, 241)'),\n",
    "               showlegend=True,\n",
    "              ),\n",
    "    secondary_y=True,\n",
    ")\n",
    "\n",
    "fig.layout.yaxis2.update(showticklabels=False, showgrid= False)\n",
    "\n",
    "# Set x-axis title\n",
    "fig.update_xaxes(title_text=\"Prediction Values\")\n",
    "\n",
    "# Set y-axes titles\n",
    "fig.update_yaxes(title_text=\"Correct/Incorrect\", secondary_y=False)\n",
    "fig.update_yaxes(title_text=\"Data Distribution\", secondary_y=True)"
   ]
  },
  {
   "cell_type": "code",
   "execution_count": null,
   "id": "d2f42b86-9caa-4051-828f-abea2d73b80b",
   "metadata": {},
   "outputs": [],
   "source": [
    "fig.write_html('output/Classifier_testAccuracy.html',\n",
    "                full_html=False,\n",
    "                include_plotlyjs='cdn')"
   ]
  },
  {
   "cell_type": "markdown",
   "id": "2691d3eb-a291-459a-beb0-587d6139a94e",
   "metadata": {},
   "source": [
    "### Taxon Distance"
   ]
  },
  {
   "cell_type": "code",
   "execution_count": null,
   "id": "b7d9574f-ebbf-4dcd-832e-b94f54df999d",
   "metadata": {},
   "outputs": [],
   "source": [
    "df = pd.read_csv('input/TaxonDistance.csv')"
   ]
  },
  {
   "cell_type": "code",
   "execution_count": null,
   "id": "013c76fb-1fc9-42d5-92c3-ee3f797f0db5",
   "metadata": {},
   "outputs": [],
   "source": [
    "df = df.set_index(['Unnamed: 0', 'Unnamed: 1'])\\\n",
    "       .rename_axis(['taxon', 'type'])"
   ]
  },
  {
   "cell_type": "code",
   "execution_count": null,
   "id": "4726a628-c1cc-4436-ba6a-9a41e095a45e",
   "metadata": {},
   "outputs": [],
   "source": [
    "taxons = df.index.get_level_values('taxon').unique()"
   ]
  },
  {
   "cell_type": "code",
   "execution_count": null,
   "id": "655ac956-4e05-4d1a-8feb-0f0556299809",
   "metadata": {},
   "outputs": [],
   "source": [
    "taxons"
   ]
  },
  {
   "cell_type": "code",
   "execution_count": null,
   "id": "b10cffd9-70b0-46f6-b566-417573524d2d",
   "metadata": {},
   "outputs": [],
   "source": [
    "#df.xs('phylum', level='taxon')"
   ]
  },
  {
   "cell_type": "code",
   "execution_count": null,
   "id": "406e7c1a-5071-4a86-98bb-2e2ea33f679d",
   "metadata": {},
   "outputs": [],
   "source": [
    "%%capture\n",
    "for taxon in taxons[0:4]:\n",
    "    \n",
    "    X = df.xs(taxon, level='taxon').round(3)\n",
    "    X[X < 0.05] = np.NaN\n",
    "\n",
    "\n",
    "    x_labels = X.columns\n",
    "    y_labels = X.index\n",
    "\n",
    "    fig = px.imshow(X,\n",
    "                    labels=dict(x=\"Classifier\", y=\"Taxon\", color=\"Distance\"),\n",
    "                    x=x_labels,\n",
    "                    y=y_labels,\n",
    "                    text_auto=True, aspect=\"auto\",\n",
    "                    color_continuous_scale='viridis_r',\n",
    "                   )\n",
    "    fig.update_xaxes(side=\"top\")\n",
    "    #fig.update_layout(height=800)\n",
    "    #fig.show()\n",
    "    \n",
    "    fig.write_html(f'output/distance_{taxon}.html',\n",
    "                full_html=False,\n",
    "                include_plotlyjs='cdn')"
   ]
  },
  {
   "cell_type": "code",
   "execution_count": 12,
   "id": "b952eadb-4775-4c6a-a523-cd477140a8f2",
   "metadata": {},
   "outputs": [
    {
     "data": {
      "text/html": [
       "<div>\n",
       "<style scoped>\n",
       "    .dataframe tbody tr th:only-of-type {\n",
       "        vertical-align: middle;\n",
       "    }\n",
       "\n",
       "    .dataframe tbody tr th {\n",
       "        vertical-align: top;\n",
       "    }\n",
       "\n",
       "    .dataframe thead th {\n",
       "        text-align: right;\n",
       "    }\n",
       "</style>\n",
       "<table border=\"1\" class=\"dataframe\">\n",
       "  <thead>\n",
       "    <tr style=\"text-align: right;\">\n",
       "      <th></th>\n",
       "      <th>source</th>\n",
       "      <th>edge</th>\n",
       "      <th>target</th>\n",
       "    </tr>\n",
       "  </thead>\n",
       "  <tbody>\n",
       "    <tr>\n",
       "      <th>0</th>\n",
       "      <td>Brown bear</td>\n",
       "      <td>has part</td>\n",
       "      <td>claw</td>\n",
       "    </tr>\n",
       "    <tr>\n",
       "      <th>1</th>\n",
       "      <td>Brown bear</td>\n",
       "      <td>has part</td>\n",
       "      <td>fur</td>\n",
       "    </tr>\n",
       "    <tr>\n",
       "      <th>2</th>\n",
       "      <td>fur</td>\n",
       "      <td>has color</td>\n",
       "      <td>brown</td>\n",
       "    </tr>\n",
       "    <tr>\n",
       "      <th>3</th>\n",
       "      <td>fur</td>\n",
       "      <td>has property</td>\n",
       "      <td>thick</td>\n",
       "    </tr>\n",
       "    <tr>\n",
       "      <th>4</th>\n",
       "      <td>claw</td>\n",
       "      <td>part part</td>\n",
       "      <td>nail</td>\n",
       "    </tr>\n",
       "    <tr>\n",
       "      <th>5</th>\n",
       "      <td>claw</td>\n",
       "      <td>has property</td>\n",
       "      <td>large</td>\n",
       "    </tr>\n",
       "    <tr>\n",
       "      <th>6</th>\n",
       "      <td>nail</td>\n",
       "      <td>has property</td>\n",
       "      <td>sharp</td>\n",
       "    </tr>\n",
       "    <tr>\n",
       "      <th>7</th>\n",
       "      <td>nail</td>\n",
       "      <td>has measurement</td>\n",
       "      <td>5</td>\n",
       "    </tr>\n",
       "    <tr>\n",
       "      <th>8</th>\n",
       "      <td>Brown bear</td>\n",
       "      <td>has part</td>\n",
       "      <td>nose</td>\n",
       "    </tr>\n",
       "    <tr>\n",
       "      <th>9</th>\n",
       "      <td>nose</td>\n",
       "      <td>has property</td>\n",
       "      <td>large</td>\n",
       "    </tr>\n",
       "  </tbody>\n",
       "</table>\n",
       "</div>"
      ],
      "text/plain": [
       "       source             edge target\n",
       "0  Brown bear         has part   claw\n",
       "1  Brown bear         has part    fur\n",
       "2         fur        has color  brown\n",
       "3         fur     has property  thick\n",
       "4        claw        part part   nail\n",
       "5        claw     has property  large\n",
       "6        nail     has property  sharp\n",
       "7        nail  has measurement      5\n",
       "8  Brown bear         has part   nose\n",
       "9        nose     has property  large"
      ]
     },
     "execution_count": 12,
     "metadata": {},
     "output_type": "execute_result"
    }
   ],
   "source": [
    "df"
   ]
  },
  {
   "cell_type": "markdown",
   "id": "aa44f99c-7f5d-48e7-b07c-4b4831ea8d5a",
   "metadata": {},
   "source": [
    "### Nx Graph"
   ]
  },
  {
   "cell_type": "code",
   "execution_count": 13,
   "id": "de1c2e06-db2e-4491-9c5b-b49bf3ecb9dd",
   "metadata": {},
   "outputs": [],
   "source": [
    "kg = [\n",
    "    ('Brown bear', 'has part', 'claw'),\n",
    "    ('Brown bear', 'has part', 'fur'),\n",
    "    ('fur', 'has color', 'brown'),\n",
    "    ('fur', 'has property', 'thick'),\n",
    "    ('claw', 'part part', 'nail'),\n",
    "    ('claw', 'has property', 'large'),\n",
    "    ('nail', 'has property', 'sharp'),\n",
    "    ('nail', 'has measurement', '5'),\n",
    "    ('Brown bear', 'has part', 'nose'),\n",
    "    ('nose', 'has property', 'large'),\n",
    "]\n",
    "\n",
    "\n",
    "df = pd.DataFrame(kg, columns=['source', 'edge', 'target'])\n",
    "\n",
    "G=nx.from_pandas_edgelist(df, \"source\", \"target\", \n",
    "                          edge_attr=True, create_using=nx.Graph())\n",
    "\n",
    "#plt.figure(figsize=(8, 3))\n",
    "labels = dict(zip(list(zip(df.source, df.target)),\n",
    "                  df['edge'].tolist()))\n",
    "\n",
    "\n",
    "node_size = {\n",
    "    'Brown bear':5,\n",
    "    'fur': 3,\n",
    "    'nose': 3,\n",
    "    'claw': 3,\n",
    "    'nail': 3,\n",
    "    'thick': 1,\n",
    "    '5': 1,\n",
    "    'sharp': 1,\n",
    "    'brown': 1,\n",
    "    'large': 1,\n",
    "    'large': 1,\n",
    "}\n",
    "\n",
    "node_color = {\n",
    "    'Brown bear': 'rgba(125, 57, 121, 1)',\n",
    "    'fur': 'white',\n",
    "    'claw': 'white',\n",
    "    'sharp': 'white',\n",
    "    'brown': 'white', \n",
    "    'thick': 'white',\n",
    "    'nail': 'white',\n",
    "    '5': 'white',\n",
    "    'large': 'white',\n",
    "    'large': 'white',\n",
    "    'nose': 'white',\n",
    "}\n",
    "pos = nx.spring_layout(G)\n",
    "\n",
    "node_labels = {node : node for node in G}"
   ]
  },
  {
   "cell_type": "code",
   "execution_count": 14,
   "id": "df1f746b-0452-405d-8e3c-cd7c227f0544",
   "metadata": {},
   "outputs": [],
   "source": [
    "def graph_nodes(node_value):\n",
    "    values = df[(df['source'] == node_value) | (df['target'] == node_value)][['source', 'target']].values\n",
    "    return values[0][0], node_value"
   ]
  },
  {
   "cell_type": "code",
   "execution_count": 15,
   "id": "b52be065-6e95-4dda-88d8-cf6845539919",
   "metadata": {},
   "outputs": [],
   "source": [
    "edge_x = []\n",
    "edge_y = []\n",
    "for node in G:\n",
    "    # Get all node names\n",
    "    node0, node1 = graph_nodes(node)\n",
    "    # Get coordinates\n",
    "    x0, y0 = pos[node0]\n",
    "    x1, y1 = pos[node1]\n",
    "    # Append to list\n",
    "    edge_x.append(x0)\n",
    "    edge_x.append(x1)\n",
    "    edge_x.append(None)\n",
    "    edge_y.append(y0)\n",
    "    edge_y.append(y1)\n",
    "    edge_y.append(None)\n",
    "    \n",
    "edge_trace = go.Scatter(\n",
    "    x=edge_x, y=edge_y,\n",
    "    line=dict(width=1.5, color='#888'),\n",
    "    hoverinfo='none',\n",
    "    mode='lines')\n",
    "\n",
    "node_x = []\n",
    "node_y = []\n",
    "node_sizes =  []\n",
    "node_colors = []\n",
    "for node in G.nodes():\n",
    "    x, y = pos[node]\n",
    "    node_x.append(x)\n",
    "    node_y.append(y)\n",
    "    size = node_size[node] * 10\n",
    "    color = node_color[node]\n",
    "    node_sizes.append(size)\n",
    "    node_colors.append(color)\n",
    "    \n",
    "    \n",
    "node_trace = go.Scatter(\n",
    "    x=node_x, y=node_y,\n",
    "    mode='markers',\n",
    "    hoverinfo='text',\n",
    "    marker=dict(\n",
    "        showscale=False,\n",
    "        #colorscale='ylgnbu',\n",
    "        colorscale=node_colors,\n",
    "        reversescale=True,\n",
    "        size=node_sizes,\n",
    "        colorbar=dict(\n",
    "            thickness=15,\n",
    "            title='Node Connections',\n",
    "            xanchor='left',\n",
    "            titleside='right'\n",
    "        ),\n",
    "        line_width=2))\n"
   ]
  },
  {
   "cell_type": "code",
   "execution_count": 18,
   "id": "7948163f-a62b-4058-a37b-38bfb722928d",
   "metadata": {},
   "outputs": [
    {
     "data": {
      "application/vnd.plotly.v1+json": {
       "config": {
        "plotlyServerURL": "https://plot.ly"
       },
       "data": [
        {
         "hoverinfo": "none",
         "line": {
          "color": "#888",
          "width": 1.5
         },
         "mode": "lines",
         "type": "scatter",
         "x": [
          -0.2226990252026994,
          -0.2226990252026994,
          null,
          -0.2226990252026994,
          0.23842644351301562,
          null,
          -0.2226990252026994,
          -0.6915205997023388,
          null,
          -0.6915205997023388,
          -0.9601250827617881,
          null,
          -0.6915205997023388,
          -0.9912527658694334,
          null,
          0.23842644351301562,
          0.6651132931929654,
          null,
          0.23842644351301562,
          0.19311195664473435,
          null,
          0.6651132931929654,
          0.8471086009964083,
          null,
          0.6651132931929654,
          1,
          null,
          -0.2226990252026994,
          -0.0781628208108635,
          null
         ],
         "y": [
          0.0793245514937692,
          0.0793245514937692,
          null,
          0.0793245514937692,
          -0.00044515027914378014,
          null,
          0.0793245514937692,
          0.03901432252450414,
          null,
          0.03901432252450414,
          -0.16909742345930448,
          null,
          0.03901432252450414,
          0.2015939769312393,
          null,
          -0.00044515027914378014,
          -0.1937166909367524,
          null,
          -0.00044515027914378014,
          0.30497081330022835,
          null,
          -0.1937166909367524,
          -0.4781778699018647,
          null,
          -0.1937166909367524,
          -0.1353950825921637,
          null,
          0.0793245514937692,
          0.35192855291948816,
          null
         ]
        },
        {
         "hoverinfo": "text",
         "marker": {
          "colorbar": {
           "thickness": 15,
           "title": {
            "side": "right",
            "text": "Node Connections"
           },
           "xanchor": "left"
          },
          "colorscale": [
           [
            0,
            "rgba(125, 57, 121, 1)"
           ],
           [
            0.1111111111111111,
            "white"
           ],
           [
            0.2222222222222222,
            "white"
           ],
           [
            0.3333333333333333,
            "white"
           ],
           [
            0.4444444444444444,
            "white"
           ],
           [
            0.5555555555555556,
            "white"
           ],
           [
            0.6666666666666666,
            "white"
           ],
           [
            0.7777777777777778,
            "white"
           ],
           [
            0.8888888888888888,
            "white"
           ],
           [
            1,
            "white"
           ]
          ],
          "line": {
           "width": 2
          },
          "reversescale": true,
          "showscale": false,
          "size": [
           50,
           30,
           30,
           10,
           10,
           30,
           10,
           10,
           10,
           30
          ]
         },
         "mode": "markers",
         "type": "scatter",
         "x": [
          -0.2226990252026994,
          0.23842644351301562,
          -0.6915205997023388,
          -0.9601250827617881,
          -0.9912527658694334,
          0.6651132931929654,
          0.19311195664473435,
          0.8471086009964083,
          1,
          -0.0781628208108635
         ],
         "y": [
          0.0793245514937692,
          -0.00044515027914378014,
          0.03901432252450414,
          -0.16909742345930448,
          0.2015939769312393,
          -0.1937166909367524,
          0.30497081330022835,
          -0.4781778699018647,
          -0.1353950825921637,
          0.35192855291948816
         ]
        }
       ],
       "layout": {
        "annotations": [
         {
          "showarrow": false,
          "text": "Brown bear",
          "x": -0.2226990252026994,
          "y": 0.0793245514937692,
          "yshift": -30
         },
         {
          "showarrow": false,
          "text": "claw",
          "x": 0.23842644351301562,
          "y": -0.00044515027914378014,
          "yshift": -30
         },
         {
          "showarrow": false,
          "text": "fur",
          "x": -0.6915205997023388,
          "y": 0.03901432252450414,
          "yshift": -30
         },
         {
          "showarrow": false,
          "text": "brown",
          "x": -0.9601250827617881,
          "y": -0.16909742345930448,
          "yshift": -30
         },
         {
          "showarrow": false,
          "text": "thick",
          "x": -0.9912527658694334,
          "y": 0.2015939769312393,
          "yshift": -30
         },
         {
          "showarrow": false,
          "text": "nail",
          "x": 0.6651132931929654,
          "y": -0.1937166909367524,
          "yshift": -30
         },
         {
          "showarrow": false,
          "text": "large",
          "x": 0.19311195664473435,
          "y": 0.30497081330022835,
          "yshift": -30
         },
         {
          "showarrow": false,
          "text": "sharp",
          "x": 0.8471086009964083,
          "y": -0.4781778699018647,
          "yshift": -30
         },
         {
          "showarrow": false,
          "text": "5",
          "x": 1,
          "y": -0.1353950825921637,
          "yshift": -30
         },
         {
          "showarrow": false,
          "text": "nose",
          "x": -0.0781628208108635,
          "y": 0.35192855291948816,
          "yshift": -30
         }
        ],
        "height": 400,
        "hovermode": "closest",
        "margin": {
         "b": 20,
         "l": 5,
         "r": 5,
         "t": 40
        },
        "showlegend": false,
        "template": {
         "data": {
          "bar": [
           {
            "error_x": {
             "color": "#2a3f5f"
            },
            "error_y": {
             "color": "#2a3f5f"
            },
            "marker": {
             "line": {
              "color": "#E5ECF6",
              "width": 0.5
             },
             "pattern": {
              "fillmode": "overlay",
              "size": 10,
              "solidity": 0.2
             }
            },
            "type": "bar"
           }
          ],
          "barpolar": [
           {
            "marker": {
             "line": {
              "color": "#E5ECF6",
              "width": 0.5
             },
             "pattern": {
              "fillmode": "overlay",
              "size": 10,
              "solidity": 0.2
             }
            },
            "type": "barpolar"
           }
          ],
          "carpet": [
           {
            "aaxis": {
             "endlinecolor": "#2a3f5f",
             "gridcolor": "white",
             "linecolor": "white",
             "minorgridcolor": "white",
             "startlinecolor": "#2a3f5f"
            },
            "baxis": {
             "endlinecolor": "#2a3f5f",
             "gridcolor": "white",
             "linecolor": "white",
             "minorgridcolor": "white",
             "startlinecolor": "#2a3f5f"
            },
            "type": "carpet"
           }
          ],
          "choropleth": [
           {
            "colorbar": {
             "outlinewidth": 0,
             "ticks": ""
            },
            "type": "choropleth"
           }
          ],
          "contour": [
           {
            "colorbar": {
             "outlinewidth": 0,
             "ticks": ""
            },
            "colorscale": [
             [
              0,
              "#0d0887"
             ],
             [
              0.1111111111111111,
              "#46039f"
             ],
             [
              0.2222222222222222,
              "#7201a8"
             ],
             [
              0.3333333333333333,
              "#9c179e"
             ],
             [
              0.4444444444444444,
              "#bd3786"
             ],
             [
              0.5555555555555556,
              "#d8576b"
             ],
             [
              0.6666666666666666,
              "#ed7953"
             ],
             [
              0.7777777777777778,
              "#fb9f3a"
             ],
             [
              0.8888888888888888,
              "#fdca26"
             ],
             [
              1,
              "#f0f921"
             ]
            ],
            "type": "contour"
           }
          ],
          "contourcarpet": [
           {
            "colorbar": {
             "outlinewidth": 0,
             "ticks": ""
            },
            "type": "contourcarpet"
           }
          ],
          "heatmap": [
           {
            "colorbar": {
             "outlinewidth": 0,
             "ticks": ""
            },
            "colorscale": [
             [
              0,
              "#0d0887"
             ],
             [
              0.1111111111111111,
              "#46039f"
             ],
             [
              0.2222222222222222,
              "#7201a8"
             ],
             [
              0.3333333333333333,
              "#9c179e"
             ],
             [
              0.4444444444444444,
              "#bd3786"
             ],
             [
              0.5555555555555556,
              "#d8576b"
             ],
             [
              0.6666666666666666,
              "#ed7953"
             ],
             [
              0.7777777777777778,
              "#fb9f3a"
             ],
             [
              0.8888888888888888,
              "#fdca26"
             ],
             [
              1,
              "#f0f921"
             ]
            ],
            "type": "heatmap"
           }
          ],
          "heatmapgl": [
           {
            "colorbar": {
             "outlinewidth": 0,
             "ticks": ""
            },
            "colorscale": [
             [
              0,
              "#0d0887"
             ],
             [
              0.1111111111111111,
              "#46039f"
             ],
             [
              0.2222222222222222,
              "#7201a8"
             ],
             [
              0.3333333333333333,
              "#9c179e"
             ],
             [
              0.4444444444444444,
              "#bd3786"
             ],
             [
              0.5555555555555556,
              "#d8576b"
             ],
             [
              0.6666666666666666,
              "#ed7953"
             ],
             [
              0.7777777777777778,
              "#fb9f3a"
             ],
             [
              0.8888888888888888,
              "#fdca26"
             ],
             [
              1,
              "#f0f921"
             ]
            ],
            "type": "heatmapgl"
           }
          ],
          "histogram": [
           {
            "marker": {
             "pattern": {
              "fillmode": "overlay",
              "size": 10,
              "solidity": 0.2
             }
            },
            "type": "histogram"
           }
          ],
          "histogram2d": [
           {
            "colorbar": {
             "outlinewidth": 0,
             "ticks": ""
            },
            "colorscale": [
             [
              0,
              "#0d0887"
             ],
             [
              0.1111111111111111,
              "#46039f"
             ],
             [
              0.2222222222222222,
              "#7201a8"
             ],
             [
              0.3333333333333333,
              "#9c179e"
             ],
             [
              0.4444444444444444,
              "#bd3786"
             ],
             [
              0.5555555555555556,
              "#d8576b"
             ],
             [
              0.6666666666666666,
              "#ed7953"
             ],
             [
              0.7777777777777778,
              "#fb9f3a"
             ],
             [
              0.8888888888888888,
              "#fdca26"
             ],
             [
              1,
              "#f0f921"
             ]
            ],
            "type": "histogram2d"
           }
          ],
          "histogram2dcontour": [
           {
            "colorbar": {
             "outlinewidth": 0,
             "ticks": ""
            },
            "colorscale": [
             [
              0,
              "#0d0887"
             ],
             [
              0.1111111111111111,
              "#46039f"
             ],
             [
              0.2222222222222222,
              "#7201a8"
             ],
             [
              0.3333333333333333,
              "#9c179e"
             ],
             [
              0.4444444444444444,
              "#bd3786"
             ],
             [
              0.5555555555555556,
              "#d8576b"
             ],
             [
              0.6666666666666666,
              "#ed7953"
             ],
             [
              0.7777777777777778,
              "#fb9f3a"
             ],
             [
              0.8888888888888888,
              "#fdca26"
             ],
             [
              1,
              "#f0f921"
             ]
            ],
            "type": "histogram2dcontour"
           }
          ],
          "mesh3d": [
           {
            "colorbar": {
             "outlinewidth": 0,
             "ticks": ""
            },
            "type": "mesh3d"
           }
          ],
          "parcoords": [
           {
            "line": {
             "colorbar": {
              "outlinewidth": 0,
              "ticks": ""
             }
            },
            "type": "parcoords"
           }
          ],
          "pie": [
           {
            "automargin": true,
            "type": "pie"
           }
          ],
          "scatter": [
           {
            "fillpattern": {
             "fillmode": "overlay",
             "size": 10,
             "solidity": 0.2
            },
            "type": "scatter"
           }
          ],
          "scatter3d": [
           {
            "line": {
             "colorbar": {
              "outlinewidth": 0,
              "ticks": ""
             }
            },
            "marker": {
             "colorbar": {
              "outlinewidth": 0,
              "ticks": ""
             }
            },
            "type": "scatter3d"
           }
          ],
          "scattercarpet": [
           {
            "marker": {
             "colorbar": {
              "outlinewidth": 0,
              "ticks": ""
             }
            },
            "type": "scattercarpet"
           }
          ],
          "scattergeo": [
           {
            "marker": {
             "colorbar": {
              "outlinewidth": 0,
              "ticks": ""
             }
            },
            "type": "scattergeo"
           }
          ],
          "scattergl": [
           {
            "marker": {
             "colorbar": {
              "outlinewidth": 0,
              "ticks": ""
             }
            },
            "type": "scattergl"
           }
          ],
          "scattermapbox": [
           {
            "marker": {
             "colorbar": {
              "outlinewidth": 0,
              "ticks": ""
             }
            },
            "type": "scattermapbox"
           }
          ],
          "scatterpolar": [
           {
            "marker": {
             "colorbar": {
              "outlinewidth": 0,
              "ticks": ""
             }
            },
            "type": "scatterpolar"
           }
          ],
          "scatterpolargl": [
           {
            "marker": {
             "colorbar": {
              "outlinewidth": 0,
              "ticks": ""
             }
            },
            "type": "scatterpolargl"
           }
          ],
          "scatterternary": [
           {
            "marker": {
             "colorbar": {
              "outlinewidth": 0,
              "ticks": ""
             }
            },
            "type": "scatterternary"
           }
          ],
          "surface": [
           {
            "colorbar": {
             "outlinewidth": 0,
             "ticks": ""
            },
            "colorscale": [
             [
              0,
              "#0d0887"
             ],
             [
              0.1111111111111111,
              "#46039f"
             ],
             [
              0.2222222222222222,
              "#7201a8"
             ],
             [
              0.3333333333333333,
              "#9c179e"
             ],
             [
              0.4444444444444444,
              "#bd3786"
             ],
             [
              0.5555555555555556,
              "#d8576b"
             ],
             [
              0.6666666666666666,
              "#ed7953"
             ],
             [
              0.7777777777777778,
              "#fb9f3a"
             ],
             [
              0.8888888888888888,
              "#fdca26"
             ],
             [
              1,
              "#f0f921"
             ]
            ],
            "type": "surface"
           }
          ],
          "table": [
           {
            "cells": {
             "fill": {
              "color": "#EBF0F8"
             },
             "line": {
              "color": "white"
             }
            },
            "header": {
             "fill": {
              "color": "#C8D4E3"
             },
             "line": {
              "color": "white"
             }
            },
            "type": "table"
           }
          ]
         },
         "layout": {
          "annotationdefaults": {
           "arrowcolor": "#2a3f5f",
           "arrowhead": 0,
           "arrowwidth": 1
          },
          "autotypenumbers": "strict",
          "coloraxis": {
           "colorbar": {
            "outlinewidth": 0,
            "ticks": ""
           }
          },
          "colorscale": {
           "diverging": [
            [
             0,
             "#8e0152"
            ],
            [
             0.1,
             "#c51b7d"
            ],
            [
             0.2,
             "#de77ae"
            ],
            [
             0.3,
             "#f1b6da"
            ],
            [
             0.4,
             "#fde0ef"
            ],
            [
             0.5,
             "#f7f7f7"
            ],
            [
             0.6,
             "#e6f5d0"
            ],
            [
             0.7,
             "#b8e186"
            ],
            [
             0.8,
             "#7fbc41"
            ],
            [
             0.9,
             "#4d9221"
            ],
            [
             1,
             "#276419"
            ]
           ],
           "sequential": [
            [
             0,
             "#0d0887"
            ],
            [
             0.1111111111111111,
             "#46039f"
            ],
            [
             0.2222222222222222,
             "#7201a8"
            ],
            [
             0.3333333333333333,
             "#9c179e"
            ],
            [
             0.4444444444444444,
             "#bd3786"
            ],
            [
             0.5555555555555556,
             "#d8576b"
            ],
            [
             0.6666666666666666,
             "#ed7953"
            ],
            [
             0.7777777777777778,
             "#fb9f3a"
            ],
            [
             0.8888888888888888,
             "#fdca26"
            ],
            [
             1,
             "#f0f921"
            ]
           ],
           "sequentialminus": [
            [
             0,
             "#0d0887"
            ],
            [
             0.1111111111111111,
             "#46039f"
            ],
            [
             0.2222222222222222,
             "#7201a8"
            ],
            [
             0.3333333333333333,
             "#9c179e"
            ],
            [
             0.4444444444444444,
             "#bd3786"
            ],
            [
             0.5555555555555556,
             "#d8576b"
            ],
            [
             0.6666666666666666,
             "#ed7953"
            ],
            [
             0.7777777777777778,
             "#fb9f3a"
            ],
            [
             0.8888888888888888,
             "#fdca26"
            ],
            [
             1,
             "#f0f921"
            ]
           ]
          },
          "colorway": [
           "#636efa",
           "#EF553B",
           "#00cc96",
           "#ab63fa",
           "#FFA15A",
           "#19d3f3",
           "#FF6692",
           "#B6E880",
           "#FF97FF",
           "#FECB52"
          ],
          "font": {
           "color": "#2a3f5f"
          },
          "geo": {
           "bgcolor": "white",
           "lakecolor": "white",
           "landcolor": "#E5ECF6",
           "showlakes": true,
           "showland": true,
           "subunitcolor": "white"
          },
          "hoverlabel": {
           "align": "left"
          },
          "hovermode": "closest",
          "mapbox": {
           "style": "light"
          },
          "paper_bgcolor": "white",
          "plot_bgcolor": "#E5ECF6",
          "polar": {
           "angularaxis": {
            "gridcolor": "white",
            "linecolor": "white",
            "ticks": ""
           },
           "bgcolor": "#E5ECF6",
           "radialaxis": {
            "gridcolor": "white",
            "linecolor": "white",
            "ticks": ""
           }
          },
          "scene": {
           "xaxis": {
            "backgroundcolor": "#E5ECF6",
            "gridcolor": "white",
            "gridwidth": 2,
            "linecolor": "white",
            "showbackground": true,
            "ticks": "",
            "zerolinecolor": "white"
           },
           "yaxis": {
            "backgroundcolor": "#E5ECF6",
            "gridcolor": "white",
            "gridwidth": 2,
            "linecolor": "white",
            "showbackground": true,
            "ticks": "",
            "zerolinecolor": "white"
           },
           "zaxis": {
            "backgroundcolor": "#E5ECF6",
            "gridcolor": "white",
            "gridwidth": 2,
            "linecolor": "white",
            "showbackground": true,
            "ticks": "",
            "zerolinecolor": "white"
           }
          },
          "shapedefaults": {
           "line": {
            "color": "#2a3f5f"
           }
          },
          "ternary": {
           "aaxis": {
            "gridcolor": "white",
            "linecolor": "white",
            "ticks": ""
           },
           "baxis": {
            "gridcolor": "white",
            "linecolor": "white",
            "ticks": ""
           },
           "bgcolor": "#E5ECF6",
           "caxis": {
            "gridcolor": "white",
            "linecolor": "white",
            "ticks": ""
           }
          },
          "title": {
           "x": 0.05
          },
          "xaxis": {
           "automargin": true,
           "gridcolor": "white",
           "linecolor": "white",
           "ticks": "",
           "title": {
            "standoff": 15
           },
           "zerolinecolor": "white",
           "zerolinewidth": 2
          },
          "yaxis": {
           "automargin": true,
           "gridcolor": "white",
           "linecolor": "white",
           "ticks": "",
           "title": {
            "standoff": 15
           },
           "zerolinecolor": "white",
           "zerolinewidth": 2
          }
         }
        },
        "width": 400,
        "xaxis": {
         "autorange": true,
         "range": [
          -1.142729157955513,
          1.1514763920860795
         ],
         "showgrid": false,
         "showticklabels": false,
         "type": "linear",
         "zeroline": false
        },
        "yaxis": {
         "autorange": true,
         "range": [
          -0.6038325791274243,
          0.464232449289832
         ],
         "showgrid": false,
         "showticklabels": false,
         "type": "linear",
         "zeroline": false
        }
       }
      },
      "image/png": "[encoded data removed]",
      "text/html": [
       "<div>                            <div id=\"9b40c16e-dd51-4954-8490-a5094857bc3a\" class=\"plotly-graph-div\" style=\"height:400px; width:400px;\"></div>            <script type=\"text/javascript\">                require([\"plotly\"], function(Plotly) {                    window.PLOTLYENV=window.PLOTLYENV || {};                                    if (document.getElementById(\"9b40c16e-dd51-4954-8490-a5094857bc3a\")) {                    Plotly.newPlot(                        \"9b40c16e-dd51-4954-8490-a5094857bc3a\",                        [{\"hoverinfo\":\"none\",\"line\":{\"color\":\"#888\",\"width\":1.5},\"mode\":\"lines\",\"x\":[-0.2226990252026994,-0.2226990252026994,null,-0.2226990252026994,0.23842644351301562,null,-0.2226990252026994,-0.6915205997023388,null,-0.6915205997023388,-0.9601250827617881,null,-0.6915205997023388,-0.9912527658694334,null,0.23842644351301562,0.6651132931929654,null,0.23842644351301562,0.19311195664473435,null,0.6651132931929654,0.8471086009964083,null,0.6651132931929654,1.0,null,-0.2226990252026994,-0.0781628208108635,null],\"y\":[0.0793245514937692,0.0793245514937692,null,0.0793245514937692,-0.00044515027914378014,null,0.0793245514937692,0.03901432252450414,null,0.03901432252450414,-0.16909742345930448,null,0.03901432252450414,0.2015939769312393,null,-0.00044515027914378014,-0.1937166909367524,null,-0.00044515027914378014,0.30497081330022835,null,-0.1937166909367524,-0.4781778699018647,null,-0.1937166909367524,-0.1353950825921637,null,0.0793245514937692,0.35192855291948816,null],\"type\":\"scatter\"},{\"hoverinfo\":\"text\",\"marker\":{\"colorbar\":{\"thickness\":15,\"title\":{\"side\":\"right\",\"text\":\"Node Connections\"},\"xanchor\":\"left\"},\"colorscale\":[[0.0,\"rgba(125, 57, 121, 1)\"],[0.1111111111111111,\"white\"],[0.2222222222222222,\"white\"],[0.3333333333333333,\"white\"],[0.4444444444444444,\"white\"],[0.5555555555555556,\"white\"],[0.6666666666666666,\"white\"],[0.7777777777777778,\"white\"],[0.8888888888888888,\"white\"],[1.0,\"white\"]],\"line\":{\"width\":2},\"reversescale\":true,\"showscale\":false,\"size\":[50.0,30.0,30.0,10.0,10.0,30.0,10.0,10.0,10.0,30.0]},\"mode\":\"markers\",\"x\":[-0.2226990252026994,0.23842644351301562,-0.6915205997023388,-0.9601250827617881,-0.9912527658694334,0.6651132931929654,0.19311195664473435,0.8471086009964083,1.0,-0.0781628208108635],\"y\":[0.0793245514937692,-0.00044515027914378014,0.03901432252450414,-0.16909742345930448,0.2015939769312393,-0.1937166909367524,0.30497081330022835,-0.4781778699018647,-0.1353950825921637,0.35192855291948816],\"type\":\"scatter\"}],                        {\"hovermode\":\"closest\",\"margin\":{\"b\":20,\"l\":5,\"r\":5,\"t\":40},\"showlegend\":false,\"xaxis\":{\"showgrid\":false,\"showticklabels\":false,\"zeroline\":false},\"yaxis\":{\"showgrid\":false,\"showticklabels\":false,\"zeroline\":false},\"template\":{\"data\":{\"histogram2dcontour\":[{\"type\":\"histogram2dcontour\",\"colorbar\":{\"outlinewidth\":0,\"ticks\":\"\"},\"colorscale\":[[0.0,\"#0d0887\"],[0.1111111111111111,\"#46039f\"],[0.2222222222222222,\"#7201a8\"],[0.3333333333333333,\"#9c179e\"],[0.4444444444444444,\"#bd3786\"],[0.5555555555555556,\"#d8576b\"],[0.6666666666666666,\"#ed7953\"],[0.7777777777777778,\"#fb9f3a\"],[0.8888888888888888,\"#fdca26\"],[1.0,\"#f0f921\"]]}],\"choropleth\":[{\"type\":\"choropleth\",\"colorbar\":{\"outlinewidth\":0,\"ticks\":\"\"}}],\"histogram2d\":[{\"type\":\"histogram2d\",\"colorbar\":{\"outlinewidth\":0,\"ticks\":\"\"},\"colorscale\":[[0.0,\"#0d0887\"],[0.1111111111111111,\"#46039f\"],[0.2222222222222222,\"#7201a8\"],[0.3333333333333333,\"#9c179e\"],[0.4444444444444444,\"#bd3786\"],[0.5555555555555556,\"#d8576b\"],[0.6666666666666666,\"#ed7953\"],[0.7777777777777778,\"#fb9f3a\"],[0.8888888888888888,\"#fdca26\"],[1.0,\"#f0f921\"]]}],\"heatmap\":[{\"type\":\"heatmap\",\"colorbar\":{\"outlinewidth\":0,\"ticks\":\"\"},\"colorscale\":[[0.0,\"#0d0887\"],[0.1111111111111111,\"#46039f\"],[0.2222222222222222,\"#7201a8\"],[0.3333333333333333,\"#9c179e\"],[0.4444444444444444,\"#bd3786\"],[0.5555555555555556,\"#d8576b\"],[0.6666666666666666,\"#ed7953\"],[0.7777777777777778,\"#fb9f3a\"],[0.8888888888888888,\"#fdca26\"],[1.0,\"#f0f921\"]]}],\"heatmapgl\":[{\"type\":\"heatmapgl\",\"colorbar\":{\"outlinewidth\":0,\"ticks\":\"\"},\"colorscale\":[[0.0,\"#0d0887\"],[0.1111111111111111,\"#46039f\"],[0.2222222222222222,\"#7201a8\"],[0.3333333333333333,\"#9c179e\"],[0.4444444444444444,\"#bd3786\"],[0.5555555555555556,\"#d8576b\"],[0.6666666666666666,\"#ed7953\"],[0.7777777777777778,\"#fb9f3a\"],[0.8888888888888888,\"#fdca26\"],[1.0,\"#f0f921\"]]}],\"contourcarpet\":[{\"type\":\"contourcarpet\",\"colorbar\":{\"outlinewidth\":0,\"ticks\":\"\"}}],\"contour\":[{\"type\":\"contour\",\"colorbar\":{\"outlinewidth\":0,\"ticks\":\"\"},\"colorscale\":[[0.0,\"#0d0887\"],[0.1111111111111111,\"#46039f\"],[0.2222222222222222,\"#7201a8\"],[0.3333333333333333,\"#9c179e\"],[0.4444444444444444,\"#bd3786\"],[0.5555555555555556,\"#d8576b\"],[0.6666666666666666,\"#ed7953\"],[0.7777777777777778,\"#fb9f3a\"],[0.8888888888888888,\"#fdca26\"],[1.0,\"#f0f921\"]]}],\"surface\":[{\"type\":\"surface\",\"colorbar\":{\"outlinewidth\":0,\"ticks\":\"\"},\"colorscale\":[[0.0,\"#0d0887\"],[0.1111111111111111,\"#46039f\"],[0.2222222222222222,\"#7201a8\"],[0.3333333333333333,\"#9c179e\"],[0.4444444444444444,\"#bd3786\"],[0.5555555555555556,\"#d8576b\"],[0.6666666666666666,\"#ed7953\"],[0.7777777777777778,\"#fb9f3a\"],[0.8888888888888888,\"#fdca26\"],[1.0,\"#f0f921\"]]}],\"mesh3d\":[{\"type\":\"mesh3d\",\"colorbar\":{\"outlinewidth\":0,\"ticks\":\"\"}}],\"scatter\":[{\"fillpattern\":{\"fillmode\":\"overlay\",\"size\":10,\"solidity\":0.2},\"type\":\"scatter\"}],\"parcoords\":[{\"type\":\"parcoords\",\"line\":{\"colorbar\":{\"outlinewidth\":0,\"ticks\":\"\"}}}],\"scatterpolargl\":[{\"type\":\"scatterpolargl\",\"marker\":{\"colorbar\":{\"outlinewidth\":0,\"ticks\":\"\"}}}],\"bar\":[{\"error_x\":{\"color\":\"#2a3f5f\"},\"error_y\":{\"color\":\"#2a3f5f\"},\"marker\":{\"line\":{\"color\":\"#E5ECF6\",\"width\":0.5},\"pattern\":{\"fillmode\":\"overlay\",\"size\":10,\"solidity\":0.2}},\"type\":\"bar\"}],\"scattergeo\":[{\"type\":\"scattergeo\",\"marker\":{\"colorbar\":{\"outlinewidth\":0,\"ticks\":\"\"}}}],\"scatterpolar\":[{\"type\":\"scatterpolar\",\"marker\":{\"colorbar\":{\"outlinewidth\":0,\"ticks\":\"\"}}}],\"histogram\":[{\"marker\":{\"pattern\":{\"fillmode\":\"overlay\",\"size\":10,\"solidity\":0.2}},\"type\":\"histogram\"}],\"scattergl\":[{\"type\":\"scattergl\",\"marker\":{\"colorbar\":{\"outlinewidth\":0,\"ticks\":\"\"}}}],\"scatter3d\":[{\"type\":\"scatter3d\",\"line\":{\"colorbar\":{\"outlinewidth\":0,\"ticks\":\"\"}},\"marker\":{\"colorbar\":{\"outlinewidth\":0,\"ticks\":\"\"}}}],\"scattermapbox\":[{\"type\":\"scattermapbox\",\"marker\":{\"colorbar\":{\"outlinewidth\":0,\"ticks\":\"\"}}}],\"scatterternary\":[{\"type\":\"scatterternary\",\"marker\":{\"colorbar\":{\"outlinewidth\":0,\"ticks\":\"\"}}}],\"scattercarpet\":[{\"type\":\"scattercarpet\",\"marker\":{\"colorbar\":{\"outlinewidth\":0,\"ticks\":\"\"}}}],\"carpet\":[{\"aaxis\":{\"endlinecolor\":\"#2a3f5f\",\"gridcolor\":\"white\",\"linecolor\":\"white\",\"minorgridcolor\":\"white\",\"startlinecolor\":\"#2a3f5f\"},\"baxis\":{\"endlinecolor\":\"#2a3f5f\",\"gridcolor\":\"white\",\"linecolor\":\"white\",\"minorgridcolor\":\"white\",\"startlinecolor\":\"#2a3f5f\"},\"type\":\"carpet\"}],\"table\":[{\"cells\":{\"fill\":{\"color\":\"#EBF0F8\"},\"line\":{\"color\":\"white\"}},\"header\":{\"fill\":{\"color\":\"#C8D4E3\"},\"line\":{\"color\":\"white\"}},\"type\":\"table\"}],\"barpolar\":[{\"marker\":{\"line\":{\"color\":\"#E5ECF6\",\"width\":0.5},\"pattern\":{\"fillmode\":\"overlay\",\"size\":10,\"solidity\":0.2}},\"type\":\"barpolar\"}],\"pie\":[{\"automargin\":true,\"type\":\"pie\"}]},\"layout\":{\"autotypenumbers\":\"strict\",\"colorway\":[\"#636efa\",\"#EF553B\",\"#00cc96\",\"#ab63fa\",\"#FFA15A\",\"#19d3f3\",\"#FF6692\",\"#B6E880\",\"#FF97FF\",\"#FECB52\"],\"font\":{\"color\":\"#2a3f5f\"},\"hovermode\":\"closest\",\"hoverlabel\":{\"align\":\"left\"},\"paper_bgcolor\":\"white\",\"plot_bgcolor\":\"#E5ECF6\",\"polar\":{\"bgcolor\":\"#E5ECF6\",\"angularaxis\":{\"gridcolor\":\"white\",\"linecolor\":\"white\",\"ticks\":\"\"},\"radialaxis\":{\"gridcolor\":\"white\",\"linecolor\":\"white\",\"ticks\":\"\"}},\"ternary\":{\"bgcolor\":\"#E5ECF6\",\"aaxis\":{\"gridcolor\":\"white\",\"linecolor\":\"white\",\"ticks\":\"\"},\"baxis\":{\"gridcolor\":\"white\",\"linecolor\":\"white\",\"ticks\":\"\"},\"caxis\":{\"gridcolor\":\"white\",\"linecolor\":\"white\",\"ticks\":\"\"}},\"coloraxis\":{\"colorbar\":{\"outlinewidth\":0,\"ticks\":\"\"}},\"colorscale\":{\"sequential\":[[0.0,\"#0d0887\"],[0.1111111111111111,\"#46039f\"],[0.2222222222222222,\"#7201a8\"],[0.3333333333333333,\"#9c179e\"],[0.4444444444444444,\"#bd3786\"],[0.5555555555555556,\"#d8576b\"],[0.6666666666666666,\"#ed7953\"],[0.7777777777777778,\"#fb9f3a\"],[0.8888888888888888,\"#fdca26\"],[1.0,\"#f0f921\"]],\"sequentialminus\":[[0.0,\"#0d0887\"],[0.1111111111111111,\"#46039f\"],[0.2222222222222222,\"#7201a8\"],[0.3333333333333333,\"#9c179e\"],[0.4444444444444444,\"#bd3786\"],[0.5555555555555556,\"#d8576b\"],[0.6666666666666666,\"#ed7953\"],[0.7777777777777778,\"#fb9f3a\"],[0.8888888888888888,\"#fdca26\"],[1.0,\"#f0f921\"]],\"diverging\":[[0,\"#8e0152\"],[0.1,\"#c51b7d\"],[0.2,\"#de77ae\"],[0.3,\"#f1b6da\"],[0.4,\"#fde0ef\"],[0.5,\"#f7f7f7\"],[0.6,\"#e6f5d0\"],[0.7,\"#b8e186\"],[0.8,\"#7fbc41\"],[0.9,\"#4d9221\"],[1,\"#276419\"]]},\"xaxis\":{\"gridcolor\":\"white\",\"linecolor\":\"white\",\"ticks\":\"\",\"title\":{\"standoff\":15},\"zerolinecolor\":\"white\",\"automargin\":true,\"zerolinewidth\":2},\"yaxis\":{\"gridcolor\":\"white\",\"linecolor\":\"white\",\"ticks\":\"\",\"title\":{\"standoff\":15},\"zerolinecolor\":\"white\",\"automargin\":true,\"zerolinewidth\":2},\"scene\":{\"xaxis\":{\"backgroundcolor\":\"#E5ECF6\",\"gridcolor\":\"white\",\"linecolor\":\"white\",\"showbackground\":true,\"ticks\":\"\",\"zerolinecolor\":\"white\",\"gridwidth\":2},\"yaxis\":{\"backgroundcolor\":\"#E5ECF6\",\"gridcolor\":\"white\",\"linecolor\":\"white\",\"showbackground\":true,\"ticks\":\"\",\"zerolinecolor\":\"white\",\"gridwidth\":2},\"zaxis\":{\"backgroundcolor\":\"#E5ECF6\",\"gridcolor\":\"white\",\"linecolor\":\"white\",\"showbackground\":true,\"ticks\":\"\",\"zerolinecolor\":\"white\",\"gridwidth\":2}},\"shapedefaults\":{\"line\":{\"color\":\"#2a3f5f\"}},\"annotationdefaults\":{\"arrowcolor\":\"#2a3f5f\",\"arrowhead\":0,\"arrowwidth\":1},\"geo\":{\"bgcolor\":\"white\",\"landcolor\":\"#E5ECF6\",\"subunitcolor\":\"white\",\"showland\":true,\"showlakes\":true,\"lakecolor\":\"white\"},\"title\":{\"x\":0.05},\"mapbox\":{\"style\":\"light\"}}},\"annotations\":[{\"showarrow\":false,\"text\":\"Brown bear\",\"x\":-0.2226990252026994,\"y\":0.0793245514937692,\"yshift\":-30},{\"showarrow\":false,\"text\":\"claw\",\"x\":0.23842644351301562,\"y\":-0.00044515027914378014,\"yshift\":-30},{\"showarrow\":false,\"text\":\"fur\",\"x\":-0.6915205997023388,\"y\":0.03901432252450414,\"yshift\":-30},{\"showarrow\":false,\"text\":\"brown\",\"x\":-0.9601250827617881,\"y\":-0.16909742345930448,\"yshift\":-30},{\"showarrow\":false,\"text\":\"thick\",\"x\":-0.9912527658694334,\"y\":0.2015939769312393,\"yshift\":-30},{\"showarrow\":false,\"text\":\"nail\",\"x\":0.6651132931929654,\"y\":-0.1937166909367524,\"yshift\":-30},{\"showarrow\":false,\"text\":\"large\",\"x\":0.19311195664473435,\"y\":0.30497081330022835,\"yshift\":-30},{\"showarrow\":false,\"text\":\"sharp\",\"x\":0.8471086009964083,\"y\":-0.4781778699018647,\"yshift\":-30},{\"showarrow\":false,\"text\":\"5\",\"x\":1.0,\"y\":-0.1353950825921637,\"yshift\":-30},{\"showarrow\":false,\"text\":\"nose\",\"x\":-0.0781628208108635,\"y\":0.35192855291948816,\"yshift\":-30}],\"height\":400,\"width\":400},                        {\"responsive\": true}                    ).then(function(){\n",
       "                            \n",
       "var gd = document.getElementById('9b40c16e-dd51-4954-8490-a5094857bc3a');\n",
       "var x = new MutationObserver(function (mutations, observer) {{\n",
       "        var display = window.getComputedStyle(gd).display;\n",
       "        if (!display || display === 'none') {{\n",
       "            console.log([gd, 'removed!']);\n",
       "            Plotly.purge(gd);\n",
       "            observer.disconnect();\n",
       "        }}\n",
       "}});\n",
       "\n",
       "// Listen for the removal of the full notebook cells\n",
       "var notebookContainer = gd.closest('#notebook-container');\n",
       "if (notebookContainer) {{\n",
       "    x.observe(notebookContainer, {childList: true});\n",
       "}}\n",
       "\n",
       "// Listen for the clearing of the current output cell\n",
       "var outputEl = gd.closest('.output');\n",
       "if (outputEl) {{\n",
       "    x.observe(outputEl, {childList: true});\n",
       "}}\n",
       "\n",
       "                        })                };                });            </script>        </div>"
      ]
     },
     "metadata": {},
     "output_type": "display_data"
    }
   ],
   "source": [
    "fig = go.Figure(data=[edge_trace, node_trace],\n",
    "             layout=go.Layout(\n",
    "                showlegend=False,\n",
    "                hovermode='closest',\n",
    "                margin=dict(b=20, l=5, r=5, t=40),\n",
    "                xaxis=dict(showgrid=False, zeroline=False, showticklabels=False),\n",
    "                yaxis=dict(showgrid=False, zeroline=False, showticklabels=False)),\n",
    "                )\n",
    "\n",
    "# annotate your figure\n",
    "for label, (x, y) in pos.items():\n",
    "    fig.add_annotation(x=x,\n",
    "                       y=y,\n",
    "                       text = label,\n",
    "                       showarrow = False,\n",
    "                       yshift = -30)\n",
    "                           \n",
    "fig.update_layout(height=400, width=400)\n",
    "\n",
    "fig.show()\n",
    "\n"
   ]
  },
  {
   "cell_type": "markdown",
   "id": "bf1f3ba0-c946-452f-85d5-a2ff01f0e845",
   "metadata": {},
   "source": [
    "### Paulien"
   ]
  },
  {
   "cell_type": "code",
   "execution_count": null,
   "id": "956a49b6-f234-4d7d-b359-d85a731e3120",
   "metadata": {},
   "outputs": [],
   "source": [
    "df = pd.read_excel('input/AllData_allyears.xlsx')"
   ]
  },
  {
   "cell_type": "code",
   "execution_count": null,
   "id": "086097ad-5a38-4075-ad9d-cc6c4c9423fd",
   "metadata": {},
   "outputs": [],
   "source": [
    "df['date_str'] = df['Date'].apply(lambda x: str(x))\n",
    "df.set_index('Date', inplace=True)\n",
    "df.sort_index(inplace=True)"
   ]
  },
  {
   "cell_type": "code",
   "execution_count": null,
   "id": "aaf79021-948b-443f-8635-a8d5cb64230b",
   "metadata": {},
   "outputs": [],
   "source": [
    "gardens = df['Sampling.area'].unique()\n",
    "losses = ['TP_log', 'TN_log', 'PO4_log', 'NO3_log']\n",
    "\n",
    "df_std = df.groupby([df.index, 'Sampling.area']).std()\n",
    "df_mean = df.groupby([df.index, 'Sampling.area']).mean()\n",
    "df_mean.reset_index(inplace=True)\n",
    "df_std.reset_index(inplace=True)\n",
    "\n",
    "fig = go.Figure().set_subplots(4, 1, vertical_spacing=0.05,\n",
    "                              shared_xaxes=True,\n",
    "                              shared_yaxes=True,\n",
    "                              subplot_titles=gardens)\n",
    "\n",
    "for idx, garden in enumerate(gardens):\n",
    "    for loss in losses:\n",
    "    mean_subset = df_mean[df_mean['Sampling.area'] == garden]\n",
    "    std_subset = df_std[df_std['Sampling.area'] == garden]\n",
    "    \n",
    "    loss = [\n",
    "    go.Scatter(\n",
    "        name='TN log',\n",
    "        x=mean_subset['Date'],\n",
    "        y=mean_subset['TN_log'],\n",
    "        mode='lines',\n",
    "        line=dict(color='rgb(31, 119, 180)'),\n",
    "        showlegend=False\n",
    "    ),\n",
    "    go.Scatter(\n",
    "        name='Upper Bound',\n",
    "        x=std_subset['Date'],\n",
    "        y=mean_subset['TN_log']+std_subset['TN_log'],\n",
    "        mode='lines',\n",
    "        marker=dict(color=\"#444\"),\n",
    "        line=dict(width=0),\n",
    "        showlegend=False,\n",
    "    ),\n",
    "    go.Scatter(\n",
    "        name='Lower Bound',\n",
    "        x=std_subset['Date'],\n",
    "        y=mean_subset['TN_log']-std_subset['TN_log'],\n",
    "        marker=dict(color=\"#444\"),\n",
    "        line=dict(width=0),\n",
    "        mode='lines',\n",
    "        fillcolor='rgba(68, 68, 68, 0.3)',\n",
    "        fill='tonexty',\n",
    "        showlegend=False\n",
    "    )\n",
    "    ]\n",
    "    \n",
    "    fig.add_trace(loss[0], row=idx + 1, col=1)\n",
    "    fig.add_trace(loss[1], row=idx + 1, col=1)\n",
    "    fig.add_trace(loss[2], row=idx + 1, col=1)\n",
    "    \n",
    "fig.update_layout(\n",
    "    hovermode=\"x\",\n",
    "    height=800,\n",
    ")\n",
    "\n",
    "#fig.for_each_yaxis(lambda y: y.update(title = ''))\n",
    "fig.add_annotation(x=-0.02,y=0.5,\n",
    "                   text=\"Loss (log)\", textangle=-90,\n",
    "                    xref=\"paper\", yref=\"paper\",\n",
    "                  font=dict(size=20,))\n",
    "\n",
    "\n",
    "fig.show()    \n",
    "# fig.write_html(f'output/VoorPaulienTest.html',\n",
    "#         full_html=False,\n",
    "#         include_plotlyjs='cdn')"
   ]
  },
  {
   "cell_type": "code",
   "execution_count": null,
   "id": "cade829b-19f3-4efe-ae95-f33d35a935c6",
   "metadata": {},
   "outputs": [],
   "source": [
    "mean_subset = df_mean[df_mean['Sampling.area'] == 'PAR']\n",
    "std_subset = df_std[df_std['Sampling.area'] == 'PAR']\n",
    "\n",
    "colors = [ '50,  92,  168', \n",
    "          '168, 135,   50', \n",
    "          '168,  58,   50', \n",
    "           '50, 168,  150',]\n",
    "losses = ['TP_log', 'TN_log', 'PO4_log', 'NO3_log']\n",
    "\n",
    "\n",
    "fig = go.Figure()\n",
    "\n",
    "for loss, color in zip(losses, colors):\n",
    "    conf = [\n",
    "    go.Scatter(\n",
    "        name=loss.split(\"_\")[0],\n",
    "        x=mean_subset['Date'],\n",
    "        y=mean_subset[loss],\n",
    "        mode='lines',\n",
    "        line=dict(color=f'rgb({color})'),\n",
    "        showlegend=True,\n",
    "        legendgroup=loss,\n",
    "    ),\n",
    "    go.Scatter(\n",
    "        name='Upper Bound',\n",
    "        x=std_subset['Date'],\n",
    "        y=mean_subset[loss]+std_subset[loss],\n",
    "        mode='lines',\n",
    "        marker=dict(color=\"#444\"),\n",
    "        line=dict(width=0.5),\n",
    "        showlegend=False,\n",
    "        hovertemplate=None,\n",
    "        hoverinfo='skip', \n",
    "        legendgroup=loss,\n",
    "\n",
    "    ),\n",
    "    go.Scatter(\n",
    "        name='Lower Bound',\n",
    "        x=std_subset['Date'],\n",
    "        y=mean_subset[loss]-std_subset[loss],\n",
    "        marker=dict(color=\"#444\"),\n",
    "        line=dict(width=0.5),\n",
    "        mode='lines',\n",
    "        fillcolor=f'rgba({color}, 0.3)',\n",
    "        fill='tonexty',\n",
    "        showlegend=False,\n",
    "        hoverinfo='skip', \n",
    "        legendgroup=loss,   \n",
    "    )\n",
    "    ]\n",
    "\n",
    "    fig.add_trace(conf[0], )#row=idx + 1, col=1)\n",
    "    fig.add_trace(conf[1], )#row=idx + 1, col=1)\n",
    "    fig.add_trace(conf[2], )#row=idx + 1, col=1)\n",
    "    \n",
    "fig.update_layout(\n",
    "    hovermode=\"x\",\n",
    "    #hovermode='x unified',\n",
    "    #height=800,\n",
    "    #title=\"Losses\",\n",
    "    xaxis_title=\"\",\n",
    "    yaxis_title=\"Losses (log)\",\n",
    "    legend_title=\"Loss Type\",\n",
    "    font=dict(\n",
    "        #family=\"Courier New, monospace\",\n",
    "        size=10,\n",
    "        color=\"black\"\n",
    "    )\n",
    ")\n",
    "\n",
    "\n",
    "#fig.update_traces(mode=\"markers+lines\")\n",
    "fig.show()"
   ]
  },
  {
   "cell_type": "code",
   "execution_count": null,
   "id": "91bbd5db-50c3-4925-965a-d3d724b4a270",
   "metadata": {},
   "outputs": [],
   "source": []
  }
 ],
 "metadata": {
  "kernelspec": {
   "display_name": "website",
   "language": "python",
   "name": "website"
  },
  "language_info": {
   "codemirror_mode": {
    "name": "ipython",
    "version": 3
   },
   "file_extension": ".py",
   "mimetype": "text/x-python",
   "name": "python",
   "nbconvert_exporter": "python",
   "pygments_lexer": "ipython3",
   "version": "3.10.5"
  }
 },
 "nbformat": 4,
 "nbformat_minor": 5
}
