{
 "cells": [
  {
   "cell_type": "code",
   "execution_count": 1,
   "id": "5f7240a9-1981-4e37-88d6-b0183a40f9f3",
   "metadata": {},
   "outputs": [],
   "source": [
    "from plotly.subplots import make_subplots\n",
    "import plotly.graph_objects as go\n",
    "import plotly.express as px\n",
    "import plotly.figure_factory as ff\n",
    "import pandas as pd\n",
    "import numpy as np\n",
    "from scipy.stats import gaussian_kde\n",
    "from statistics import NormalDist\n",
    "import pickle\n",
    "import networkx as nx"
   ]
  },
  {
   "cell_type": "markdown",
   "id": "7b501bb3-f636-4dfe-9c8b-777d08090f97",
   "metadata": {},
   "source": [
    "### Thesis Plots"
   ]
  },
  {
   "cell_type": "markdown",
   "id": "c23f5c51-9549-47f9-bbde-4691fd250682",
   "metadata": {},
   "source": [
    "#### Website count"
   ]
  },
  {
   "cell_type": "code",
   "execution_count": null,
   "id": "73effc26-526d-4504-a0aa-28b07a0a06ee",
   "metadata": {},
   "outputs": [],
   "source": [
    "df = pd.read_csv('input/thesis_WebsitesInfo.csv')"
   ]
  },
  {
   "cell_type": "code",
   "execution_count": null,
   "id": "752326cb-ecfe-418f-baf5-72812ad088ad",
   "metadata": {},
   "outputs": [],
   "source": [
    "fig = px.bar(data_frame=df, x='URL', y='Count', \n",
    "             text_auto='.2s', text='Percentage')\n",
    "\n",
    "texts = [f'{round(value, 2)}%' for value in df['Percentage'].values]\n",
    "\n",
    "#fig.update_traces(textfont_size=12, textangle=0, textposition=\"outside\", cliponaxis=False)\n",
    "fig.update_traces(texttemplate = texts, textposition = 'outside')\n",
    "fig.update_layout(yaxis_range=[0, 60000])\n",
    "fig.show()"
   ]
  },
  {
   "cell_type": "code",
   "execution_count": null,
   "id": "a2f7a037-a66e-4ed7-83c1-fdeaaef1eaab",
   "metadata": {},
   "outputs": [],
   "source": [
    "fig.write_html('output/WebsitesAnalysis.html',\n",
    "                full_html=False,\n",
    "                include_plotlyjs='cdn')"
   ]
  },
  {
   "cell_type": "markdown",
   "id": "ce2492a6-02b7-4aa9-a545-788e7d1bf1aa",
   "metadata": {},
   "source": [
    "#### Description Test Results"
   ]
  },
  {
   "cell_type": "code",
   "execution_count": null,
   "id": "a0194142-6c95-4010-b99c-0e70d77b0fab",
   "metadata": {},
   "outputs": [],
   "source": [
    "df = pd.read_csv('input/thesis_TestPrediction.csv')\n",
    "df['bin'] = df.index.values / df.index.values[-1]"
   ]
  },
  {
   "cell_type": "code",
   "execution_count": null,
   "id": "12e09fdf-03e3-46dd-8117-07791c9cb17a",
   "metadata": {},
   "outputs": [],
   "source": [
    "def create_KDE(df, column, bw=None, num=501):\n",
    "    x = np.linspace(0, 1, num=num)\n",
    "    kernel = gaussian_kde(df[column], bw_method=bw) \n",
    "    y = kernel.pdf(x)\n",
    "    \n",
    "    return x, y"
   ]
  },
  {
   "cell_type": "code",
   "execution_count": null,
   "id": "a41ec8ac-a827-477c-9ce4-f95c43776589",
   "metadata": {},
   "outputs": [],
   "source": [
    "x, y = create_KDE(df, 'Probability_1', num=101)"
   ]
  },
  {
   "cell_type": "code",
   "execution_count": null,
   "id": "8796f930-1256-4833-8b1b-1c781dbea553",
   "metadata": {},
   "outputs": [],
   "source": [
    "correct_all = []\n",
    "incorrect_all = []\n",
    "for x1, x2 in zip(x, x[1:]):\n",
    "    df_subset = df[(df['bin'].between(x1, x2))].groupby('Correct').count()\n",
    "    try:\n",
    "        total = df_subset.iloc[1, 0] + df_subset.iloc[0, 0]\n",
    "        correct = df_subset.iloc[0, 0] / total\n",
    "    except:\n",
    "        correct = correct_all[-1]\n",
    "    incorrect = 1 - correct\n",
    "    \n",
    "    correct_all.append(correct)\n",
    "    incorrect_all.append(incorrect)"
   ]
  },
  {
   "cell_type": "code",
   "execution_count": null,
   "id": "691ffe83-f156-4850-b5f2-c3d9aef21801",
   "metadata": {},
   "outputs": [],
   "source": [
    "correct_all.append(correct_all[-1])\n",
    "incorrect_all.append(incorrect_all[-1])"
   ]
  },
  {
   "cell_type": "code",
   "execution_count": null,
   "id": "3dcd1258-74a9-4bba-8f47-7ce7c6dc0386",
   "metadata": {},
   "outputs": [],
   "source": [
    "fig = make_subplots(specs=[[{\"secondary_y\": True}]])\n",
    "\n",
    "x, y = create_KDE(df[df['Correct'] == 'Correct'], 'Probability_1', num=101)\n",
    "\n",
    "fig.add_trace(go.Scatter(\n",
    "    x=x, y=correct_all,\n",
    "    hoverinfo='x+y',\n",
    "    mode='lines',\n",
    "    line=dict(width=0.5, color='green'),\n",
    "    stackgroup='one',\n",
    "    groupnorm='percent'\n",
    "))\n",
    "\n",
    "x, y = create_KDE(df[df['Correct'] == 'Incorrect'], 'Probability_1', num=101)\n",
    "\n",
    "fig.add_trace(go.Scatter(\n",
    "    x=x, y=incorrect_all,\n",
    "    hoverinfo='x+y',\n",
    "    mode='lines',\n",
    "    line=dict(width=0.5, color='red'),\n",
    "    stackgroup='one',\n",
    "    showlegend=True,\n",
    "))\n",
    "\n",
    "fig.update_layout(\n",
    "    showlegend=False,\n",
    "    #xaxis_type='category',\n",
    "    yaxis=dict(\n",
    "        type='linear',\n",
    "        range=[1, 100],\n",
    "        ticksuffix='%'))\n",
    "\n",
    "x, y = create_KDE(df, 'Probability_1')\n",
    "\n",
    "fig.add_trace(\n",
    "    go.Scatter(x=x, y=y, name=\"Description Density\",\n",
    "              line=dict(width=1.5, color='rgb(131, 90, 241)'),\n",
    "               showlegend=True,\n",
    "              ),\n",
    "    secondary_y=True,\n",
    ")\n",
    "\n",
    "fig.layout.yaxis2.update(showticklabels=False, showgrid= False)\n",
    "\n",
    "# Set x-axis title\n",
    "fig.update_xaxes(title_text=\"Prediction Values\")\n",
    "\n",
    "# Set y-axes titles\n",
    "fig.update_yaxes(title_text=\"Correct/Incorrect\", secondary_y=False)\n",
    "fig.update_yaxes(title_text=\"Data Distribution\", secondary_y=True)"
   ]
  },
  {
   "cell_type": "code",
   "execution_count": null,
   "id": "d2f42b86-9caa-4051-828f-abea2d73b80b",
   "metadata": {},
   "outputs": [],
   "source": [
    "fig.write_html('output/Classifier_testAccuracy.html',\n",
    "                full_html=False,\n",
    "                include_plotlyjs='cdn')"
   ]
  },
  {
   "cell_type": "markdown",
   "id": "2691d3eb-a291-459a-beb0-587d6139a94e",
   "metadata": {},
   "source": [
    "### Taxon Distance"
   ]
  },
  {
   "cell_type": "code",
   "execution_count": 2,
   "id": "b7d9574f-ebbf-4dcd-832e-b94f54df999d",
   "metadata": {},
   "outputs": [],
   "source": [
    "df = pd.read_csv('input/TaxonDistance.csv')"
   ]
  },
  {
   "cell_type": "code",
   "execution_count": 3,
   "id": "013c76fb-1fc9-42d5-92c3-ee3f797f0db5",
   "metadata": {},
   "outputs": [],
   "source": [
    "df = df.set_index(['Unnamed: 0', 'Unnamed: 1'])\\\n",
    "       .rename_axis(['taxon', 'type'])"
   ]
  },
  {
   "cell_type": "code",
   "execution_count": 4,
   "id": "4726a628-c1cc-4436-ba6a-9a41e095a45e",
   "metadata": {},
   "outputs": [],
   "source": [
    "taxons = df.index.get_level_values('taxon').unique()"
   ]
  },
  {
   "cell_type": "code",
   "execution_count": 5,
   "id": "655ac956-4e05-4d1a-8feb-0f0556299809",
   "metadata": {},
   "outputs": [
    {
     "data": {
      "text/plain": [
       "Index(['kingdom', 'phylum', 'class', 'order', 'family'], dtype='object', name='taxon')"
      ]
     },
     "execution_count": 5,
     "metadata": {},
     "output_type": "execute_result"
    }
   ],
   "source": [
    "taxons"
   ]
  },
  {
   "cell_type": "code",
   "execution_count": null,
   "id": "b10cffd9-70b0-46f6-b566-417573524d2d",
   "metadata": {},
   "outputs": [],
   "source": [
    "#df.xs('phylum', level='taxon')"
   ]
  },
  {
   "cell_type": "code",
   "execution_count": null,
   "id": "406e7c1a-5071-4a86-98bb-2e2ea33f679d",
   "metadata": {},
   "outputs": [],
   "source": [
    "%%capture\n",
    "for taxon in taxons[0:4]:\n",
    "    \n",
    "    X = df.xs(taxon, level='taxon').round(3)\n",
    "    X[X < 0.05] = np.NaN\n",
    "\n",
    "\n",
    "    x_labels = X.columns\n",
    "    y_labels = X.index\n",
    "\n",
    "    fig = px.imshow(X,\n",
    "                    labels=dict(x=\"Classifier\", y=\"Taxon\", color=\"Distance\"),\n",
    "                    x=x_labels,\n",
    "                    y=y_labels,\n",
    "                    text_auto=True, aspect=\"auto\",\n",
    "                    color_continuous_scale='viridis_r',\n",
    "                   )\n",
    "    fig.update_xaxes(side=\"top\")\n",
    "    #fig.update_layout(height=800)\n",
    "    #fig.show()\n",
    "    \n",
    "    fig.write_html(f'output/distance_{taxon}.html',\n",
    "                full_html=False,\n",
    "                include_plotlyjs='cdn')"
   ]
  },
  {
   "cell_type": "markdown",
   "id": "2a223d16-6cd5-4319-95be-ae35c96e75a9",
   "metadata": {},
   "source": [
    "#### Xarray"
   ]
  },
  {
   "cell_type": "code",
   "execution_count": null,
   "id": "b03117fd-5de0-4d62-8ea8-4260513cfcc6",
   "metadata": {},
   "outputs": [],
   "source": [
    "distance_dict = pickle.load(open('input/TaxonDistanceDict.pkl', 'rb'))"
   ]
  },
  {
   "cell_type": "code",
   "execution_count": null,
   "id": "0dc3ce35-fb4d-4cd7-800c-6f55c164c56c",
   "metadata": {},
   "outputs": [],
   "source": [
    "taxons = list(distance_dict.keys())"
   ]
  },
  {
   "cell_type": "code",
   "execution_count": null,
   "id": "6bbe4518-9be7-4c9f-a823-61b1ba4187f1",
   "metadata": {},
   "outputs": [],
   "source": [
    "taxons"
   ]
  },
  {
   "cell_type": "code",
   "execution_count": null,
   "id": "d41880fd-75da-4ba6-ac60-1e015f5ef43c",
   "metadata": {},
   "outputs": [],
   "source": [
    "xarr = distance_dict['class'].to_xarray().to_array()"
   ]
  },
  {
   "cell_type": "code",
   "execution_count": null,
   "id": "4966d122-2307-4d17-a745-b2c7764495fd",
   "metadata": {},
   "outputs": [],
   "source": [
    "xarr = xarr.rename({'variable': 'classifier'})"
   ]
  },
  {
   "cell_type": "code",
   "execution_count": null,
   "id": "9d86bc13-316f-4cc3-b019-2cb0a6b297d1",
   "metadata": {},
   "outputs": [],
   "source": [
    "xarr[0: 0, 0, 0]"
   ]
  },
  {
   "cell_type": "code",
   "execution_count": null,
   "id": "abb35fe6-ef13-40f5-bae0-09a4647ed5f1",
   "metadata": {},
   "outputs": [],
   "source": [
    "fig = px.imshow(xarr[0, :, :],\n",
    "                text_auto=True, aspect=\"auto\",\n",
    "                color_continuous_scale='plasma_r',\n",
    "               )\n",
    "fig.update_xaxes(side=\"top\")\n",
    "fig.update_layout(height=800)\n",
    "fig.show()"
   ]
  },
  {
   "cell_type": "code",
   "execution_count": null,
   "id": "61d03adb-4e3a-4b43-9ea0-b0767dd5629a",
   "metadata": {},
   "outputs": [],
   "source": [
    "df = px.data.gapminder()\n",
    "px.scatter(df, x=\"gdpPercap\", y=\"lifeExp\", animation_frame=\"year\", animation_group=\"country\",\n",
    "           size=\"pop\", color=\"continent\", hover_name=\"country\",\n",
    "           log_x=True, size_max=55, range_x=[100,100000], range_y=[25,90])"
   ]
  },
  {
   "cell_type": "markdown",
   "id": "bf1f3ba0-c946-452f-85d5-a2ff01f0e845",
   "metadata": {},
   "source": [
    "### Paulien"
   ]
  },
  {
   "cell_type": "code",
   "execution_count": null,
   "id": "956a49b6-f234-4d7d-b359-d85a731e3120",
   "metadata": {},
   "outputs": [],
   "source": [
    "df = pd.read_excel('input/AllData_allyears.xlsx')"
   ]
  },
  {
   "cell_type": "code",
   "execution_count": null,
   "id": "086097ad-5a38-4075-ad9d-cc6c4c9423fd",
   "metadata": {},
   "outputs": [],
   "source": [
    "df['date_str'] = df['Date'].apply(lambda x: str(x))\n",
    "df.set_index('Date', inplace=True)\n",
    "df.sort_index(inplace=True)"
   ]
  },
  {
   "cell_type": "code",
   "execution_count": null,
   "id": "aaf79021-948b-443f-8635-a8d5cb64230b",
   "metadata": {},
   "outputs": [],
   "source": [
    "gardens = df['Sampling.area'].unique()\n",
    "losses = ['TP_log', 'TN_log', 'PO4_log', 'NO3_log']\n",
    "\n",
    "df_std = df.groupby([df.index, 'Sampling.area']).std()\n",
    "df_mean = df.groupby([df.index, 'Sampling.area']).mean()\n",
    "df_mean.reset_index(inplace=True)\n",
    "df_std.reset_index(inplace=True)\n",
    "\n",
    "fig = go.Figure().set_subplots(4, 1, vertical_spacing=0.05,\n",
    "                              shared_xaxes=True,\n",
    "                              shared_yaxes=True,\n",
    "                              subplot_titles=gardens)\n",
    "\n",
    "for idx, garden in enumerate(gardens):\n",
    "    for loss in losses:\n",
    "    mean_subset = df_mean[df_mean['Sampling.area'] == garden]\n",
    "    std_subset = df_std[df_std['Sampling.area'] == garden]\n",
    "    \n",
    "    loss = [\n",
    "    go.Scatter(\n",
    "        name='TN log',\n",
    "        x=mean_subset['Date'],\n",
    "        y=mean_subset['TN_log'],\n",
    "        mode='lines',\n",
    "        line=dict(color='rgb(31, 119, 180)'),\n",
    "        showlegend=False\n",
    "    ),\n",
    "    go.Scatter(\n",
    "        name='Upper Bound',\n",
    "        x=std_subset['Date'],\n",
    "        y=mean_subset['TN_log']+std_subset['TN_log'],\n",
    "        mode='lines',\n",
    "        marker=dict(color=\"#444\"),\n",
    "        line=dict(width=0),\n",
    "        showlegend=False,\n",
    "    ),\n",
    "    go.Scatter(\n",
    "        name='Lower Bound',\n",
    "        x=std_subset['Date'],\n",
    "        y=mean_subset['TN_log']-std_subset['TN_log'],\n",
    "        marker=dict(color=\"#444\"),\n",
    "        line=dict(width=0),\n",
    "        mode='lines',\n",
    "        fillcolor='rgba(68, 68, 68, 0.3)',\n",
    "        fill='tonexty',\n",
    "        showlegend=False\n",
    "    )\n",
    "    ]\n",
    "    \n",
    "    fig.add_trace(loss[0], row=idx + 1, col=1)\n",
    "    fig.add_trace(loss[1], row=idx + 1, col=1)\n",
    "    fig.add_trace(loss[2], row=idx + 1, col=1)\n",
    "    \n",
    "fig.update_layout(\n",
    "    hovermode=\"x\",\n",
    "    height=800,\n",
    ")\n",
    "\n",
    "#fig.for_each_yaxis(lambda y: y.update(title = ''))\n",
    "fig.add_annotation(x=-0.02,y=0.5,\n",
    "                   text=\"Loss (log)\", textangle=-90,\n",
    "                    xref=\"paper\", yref=\"paper\",\n",
    "                  font=dict(size=20,))\n",
    "\n",
    "\n",
    "fig.show()    \n",
    "# fig.write_html(f'output/VoorPaulienTest.html',\n",
    "#         full_html=False,\n",
    "#         include_plotlyjs='cdn')"
   ]
  },
  {
   "cell_type": "code",
   "execution_count": null,
   "id": "cade829b-19f3-4efe-ae95-f33d35a935c6",
   "metadata": {},
   "outputs": [],
   "source": [
    "mean_subset = df_mean[df_mean['Sampling.area'] == 'PAR']\n",
    "std_subset = df_std[df_std['Sampling.area'] == 'PAR']\n",
    "\n",
    "colors = [ '50,  92,  168', \n",
    "          '168, 135,   50', \n",
    "          '168,  58,   50', \n",
    "           '50, 168,  150',]\n",
    "losses = ['TP_log', 'TN_log', 'PO4_log', 'NO3_log']\n",
    "\n",
    "\n",
    "fig = go.Figure()\n",
    "\n",
    "for loss, color in zip(losses, colors):\n",
    "    conf = [\n",
    "    go.Scatter(\n",
    "        name=loss.split(\"_\")[0],\n",
    "        x=mean_subset['Date'],\n",
    "        y=mean_subset[loss],\n",
    "        mode='lines',\n",
    "        line=dict(color=f'rgb({color})'),\n",
    "        showlegend=True,\n",
    "        legendgroup=loss,\n",
    "    ),\n",
    "    go.Scatter(\n",
    "        name='Upper Bound',\n",
    "        x=std_subset['Date'],\n",
    "        y=mean_subset[loss]+std_subset[loss],\n",
    "        mode='lines',\n",
    "        marker=dict(color=\"#444\"),\n",
    "        line=dict(width=0.5),\n",
    "        showlegend=False,\n",
    "        hovertemplate=None,\n",
    "        hoverinfo='skip', \n",
    "        legendgroup=loss,\n",
    "\n",
    "    ),\n",
    "    go.Scatter(\n",
    "        name='Lower Bound',\n",
    "        x=std_subset['Date'],\n",
    "        y=mean_subset[loss]-std_subset[loss],\n",
    "        marker=dict(color=\"#444\"),\n",
    "        line=dict(width=0.5),\n",
    "        mode='lines',\n",
    "        fillcolor=f'rgba({color}, 0.3)',\n",
    "        fill='tonexty',\n",
    "        showlegend=False,\n",
    "        hoverinfo='skip', \n",
    "        legendgroup=loss,   \n",
    "    )\n",
    "    ]\n",
    "\n",
    "    fig.add_trace(conf[0], )#row=idx + 1, col=1)\n",
    "    fig.add_trace(conf[1], )#row=idx + 1, col=1)\n",
    "    fig.add_trace(conf[2], )#row=idx + 1, col=1)\n",
    "    \n",
    "fig.update_layout(\n",
    "    hovermode=\"x\",\n",
    "    #hovermode='x unified',\n",
    "    #height=800,\n",
    "    #title=\"Losses\",\n",
    "    xaxis_title=\"\",\n",
    "    yaxis_title=\"Losses (log)\",\n",
    "    legend_title=\"Loss Type\",\n",
    "    font=dict(\n",
    "        #family=\"Courier New, monospace\",\n",
    "        size=10,\n",
    "        color=\"black\"\n",
    "    )\n",
    ")\n",
    "\n",
    "\n",
    "#fig.update_traces(mode=\"markers+lines\")\n",
    "fig.show()"
   ]
  },
  {
   "cell_type": "code",
   "execution_count": null,
   "id": "91bbd5db-50c3-4925-965a-d3d724b4a270",
   "metadata": {},
   "outputs": [],
   "source": []
  }
 ],
 "metadata": {
  "kernelspec": {
   "display_name": "website",
   "language": "python",
   "name": "website"
  },
  "language_info": {
   "codemirror_mode": {
    "name": "ipython",
    "version": 3
   },
   "file_extension": ".py",
   "mimetype": "text/x-python",
   "name": "python",
   "nbconvert_exporter": "python",
   "pygments_lexer": "ipython3",
   "version": "3.10.5"
  }
 },
 "nbformat": 4,
 "nbformat_minor": 5
}
